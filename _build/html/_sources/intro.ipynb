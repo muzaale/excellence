{
 "cells": [
  {
   "cell_type": "markdown",
   "metadata": {},
   "source": [
    "# Gerontology in Uganda\n",
    "\n",
    "![](excellence.jpeg)\n",
    "\n",
    "Hello,\n",
    "\n",
    "Gerontology Excellence at St. Francis Chapel Makerere University is there to globally \"Lobby and Advocate for Holistic Excellence Among Senior Citizens of 50+ years of age in Pursuit of 'Formidable Longer Life Experiences'\" for all age groups because we also believe that \"Either you are infected, or affected by longer life experiences."
   ]
  }
 ],
 "metadata": {
  "kernelspec": {
   "display_name": "myenv",
   "language": "python",
   "name": "python3"
  },
  "language_info": {
   "codemirror_mode": {
    "name": "ipython",
    "version": 3
   },
   "file_extension": ".py",
   "mimetype": "text/x-python",
   "name": "python",
   "nbconvert_exporter": "python",
   "pygments_lexer": "ipython3",
   "version": "3.11.4"
  },
  "orig_nbformat": 4
 },
 "nbformat": 4,
 "nbformat_minor": 2
}
